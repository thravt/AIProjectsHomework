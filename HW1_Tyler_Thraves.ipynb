{
  "nbformat": 4,
  "nbformat_minor": 0,
  "metadata": {
    "colab": {
      "provenance": [],
      "authorship_tag": "ABX9TyPzgZJReKbKzFr2+XaIvwD/",
      "include_colab_link": true
    },
    "kernelspec": {
      "name": "python3",
      "display_name": "Python 3"
    },
    "language_info": {
      "name": "python"
    }
  },
  "cells": [
    {
      "cell_type": "markdown",
      "metadata": {
        "id": "view-in-github",
        "colab_type": "text"
      },
      "source": [
        "<a href=\"https://colab.research.google.com/github/thravt/AIProjectsHomework/blob/main/HW1_Tyler_Thraves.ipynb\" target=\"_parent\"><img src=\"https://colab.research.google.com/assets/colab-badge.svg\" alt=\"Open In Colab\"/></a>"
      ]
    },
    {
      "cell_type": "markdown",
      "source": [
        "Task 1 (20 points): Advanced Objective Function and Use Case\n"
      ],
      "metadata": {
        "id": "goefqKHNuU5r"
      }
    },
    {
      "cell_type": "markdown",
      "source": [
        "1. Derive the objective function for Logistic Regression using Maximum Likelihood\n",
        "Estimation (MLE). Do some research on the MAP technique for Logistic Regression,\n",
        "include your research on how this technique is different from MLE (include citations).\n"
      ],
      "metadata": {
        "id": "DjfWlfT9uuEM"
      }
    },
    {
      "cell_type": "markdown",
      "source": [
        "2. Define a machine learning problem you wish to solve using Logistic Regression. Justify\n",
        "why logistic regression is the best choice and compare it briefly to another linear\n",
        "classification model (cite your work if this other technique was not covered in class)."
      ],
      "metadata": {
        "id": "j0tmjZ55uxWN"
      }
    },
    {
      "cell_type": "markdown",
      "source": [
        "3. Discuss how your dataset corresponds to the variables in your equations, highlighting\n",
        "any assumptions in your derivation from part 1."
      ],
      "metadata": {
        "id": "9GOGam8tuzXF"
      }
    },
    {
      "cell_type": "markdown",
      "source": [
        "Task 2 (20 points): Dataset and Advanced EDA"
      ],
      "metadata": {
        "id": "ki7WSzL0uc8H"
      }
    },
    {
      "cell_type": "markdown",
      "source": [
        "Task 3 (20 points): Logistic Regression Implementation"
      ],
      "metadata": {
        "id": "to2cTgrsudQN"
      }
    },
    {
      "cell_type": "markdown",
      "source": [
        "Task 4 (40 points): Optimization Techniques and Advanced Comparison\n"
      ],
      "metadata": {
        "id": "qOZS4WHnudZ2"
      }
    }
  ]
}